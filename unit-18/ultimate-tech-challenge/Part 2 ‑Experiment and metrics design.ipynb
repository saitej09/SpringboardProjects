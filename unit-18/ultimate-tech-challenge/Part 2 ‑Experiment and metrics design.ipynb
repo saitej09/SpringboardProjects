{
 "cells": [
  {
   "cell_type": "markdown",
   "metadata": {},
   "source": [
    "The neighboring cities of Gotham and Metropolis have complementary circadian rhythms: onweekdays, Ultimate Gotham is most active at night, and Ultimate Metropolis is most activeduring the day. On weekends, there is reasonable activity in both cities.However, a toll bridge, with a two ­way toll, between the two cities causes driver partners to tendto be exclusive to each city. The Ultimate managers of city operations for the two cities haveproposed an experiment to encourage driver partners to be available in both cities, byreimbursing all toll costs.\n",
    "\n",
    "1.What would you choose as the key measure of success of this experiment inencouraging driver partners to serve both cities, and why would you choose this metric?\n",
    "\n",
    "2.Describe a practical experiment you would design to compare the effectiveness of theproposed change in relation to the key measure of success. Please provide details on:\n",
    "a.how you will implement the experiment\n",
    "\n",
    "b.what statistical test(s) you will conduct to verify the significance of theobservation\n",
    "\n",
    "c.how you would interpret the results and provide recommendations to the cityoperations team along with any caveats.\n",
    "\n",
    "\n",
    "\n"
   ]
  },
  {
   "cell_type": "markdown",
   "metadata": {},
   "source": [
    "Weekend engagement for drivers in the city other than their primary weekday city would be a key measure. With the huge demand in peak times during the weekends, it is unlikely that any driver would take advantage of both cities as that would equate to working more than 12 hours a day. However, with weekends being active for both throughout the day, it is more reasonable to expect a driver to take customers back and forth with tolls not being an issue.\n",
    "\n",
    "As an indicator, we can have a ratio of the activity of a driver in the other city. For example, a driver from metrapolis has 10 trips out of his 100 trips in Gotham, then his indicator percent is 10%. We need to increase this indicator close to 50% so that the drivers from either cities have trips both the cities. This will be more fruitful to the drivers on weekends as both are thriving with activity and there is a higher probablity to get trips with a bonus of the toll reimbursement.\n",
    "\n",
    "Once we begin the experiment, we need to observe this ratio over a period of time to be able to accurately analyse the statistical significance or impact of this ratio. Finally we can use a z test to define out experimental findings.\n",
    "\n",
    "Also, during this experiment we need to see if neither of the cities are performing poorly in terms of driver availability compared to previous data. Also, since Ultimate is paying out the toll charges, it also has to have a look at the impact on the revenues during this experiment. if both the cities are performing well in terms of driver availability and drivers are getting long trips, it generally would result in greater revenue. Also, we can make sure that once a drive has paid toll and entered in to a city, we can try to assign him few tripos in the same city thus making more use of the toll paid instead of assigning him the trip of the other city directly where Ultimate has to again pay the toll."
   ]
  },
  {
   "cell_type": "code",
   "execution_count": null,
   "metadata": {},
   "outputs": [],
   "source": []
  }
 ],
 "metadata": {
  "kernelspec": {
   "display_name": "Python 3",
   "language": "python",
   "name": "python3"
  },
  "language_info": {
   "codemirror_mode": {
    "name": "ipython",
    "version": 3
   },
   "file_extension": ".py",
   "mimetype": "text/x-python",
   "name": "python",
   "nbconvert_exporter": "python",
   "pygments_lexer": "ipython3",
   "version": "3.7.4"
  }
 },
 "nbformat": 4,
 "nbformat_minor": 2
}
